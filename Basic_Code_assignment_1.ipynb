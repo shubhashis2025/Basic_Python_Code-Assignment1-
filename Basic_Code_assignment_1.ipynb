{
 "cells": [
  {
   "cell_type": "markdown",
   "id": "07f071f7-4cd9-4fca-9d23-6f80eab35519",
   "metadata": {},
   "source": [
    "Introduction(1st code on Python)"
   ]
  },
  {
   "cell_type": "code",
   "execution_count": 2,
   "id": "13e4b26f-dcc4-47be-b175-039ee9760d88",
   "metadata": {},
   "outputs": [
    {
     "name": "stdout",
     "output_type": "stream",
     "text": [
      "5\n"
     ]
    }
   ],
   "source": [
    "print(3+2) #addition"
   ]
  },
  {
   "cell_type": "code",
   "execution_count": 3,
   "id": "1b73fc44-87ad-4ae4-8710-d1a2b23c2713",
   "metadata": {},
   "outputs": [
    {
     "name": "stdout",
     "output_type": "stream",
     "text": [
      "2\n"
     ]
    }
   ],
   "source": [
    "print(7-5) #subtraction)"
   ]
  },
  {
   "cell_type": "code",
   "execution_count": 4,
   "id": "8b7f37b5-ec75-4766-b43d-f1ee2411caa9",
   "metadata": {},
   "outputs": [
    {
     "name": "stdout",
     "output_type": "stream",
     "text": [
      "6\n"
     ]
    }
   ],
   "source": [
    "print(3*2) #multiplication"
   ]
  },
  {
   "cell_type": "code",
   "execution_count": 8,
   "id": "604e682a-3d72-4792-907c-2b025c2d3028",
   "metadata": {},
   "outputs": [
    {
     "name": "stdout",
     "output_type": "stream",
     "text": [
      "81\n"
     ]
    }
   ],
   "source": [
    "print(3**4) #exponential"
   ]
  },
  {
   "cell_type": "code",
   "execution_count": 5,
   "id": "1493f8ea-4dcb-44fc-a4ce-41c1c5fffa02",
   "metadata": {},
   "outputs": [
    {
     "name": "stdout",
     "output_type": "stream",
     "text": [
      "7.0\n"
     ]
    }
   ],
   "source": [
    "print(14/2) #division"
   ]
  },
  {
   "cell_type": "code",
   "execution_count": 6,
   "id": "b88cb277-1306-426d-be04-e7dc8942d7bf",
   "metadata": {},
   "outputs": [
    {
     "name": "stdout",
     "output_type": "stream",
     "text": [
      "2\n"
     ]
    }
   ],
   "source": [
    "print(17//8) #floor division operator"
   ]
  },
  {
   "cell_type": "code",
   "execution_count": 10,
   "id": "799cf616-9191-401d-aa66-cec793001017",
   "metadata": {},
   "outputs": [
    {
     "name": "stdout",
     "output_type": "stream",
     "text": [
      "1\n"
     ]
    }
   ],
   "source": [
    "print(19%3) #modulus (remainder of the division)"
   ]
  },
  {
   "cell_type": "raw",
   "id": "6e42b9d3-7fa5-44ed-9263-a5cbf6d90527",
   "metadata": {},
   "source": [
    "Checking Datatypes"
   ]
  },
  {
   "cell_type": "code",
   "execution_count": 11,
   "id": "e9cd9465-297a-4ecf-9752-2da4f2c72321",
   "metadata": {},
   "outputs": [
    {
     "name": "stdout",
     "output_type": "stream",
     "text": [
      "<class 'int'>\n"
     ]
    }
   ],
   "source": [
    "print(type(10))                  # Int"
   ]
  },
  {
   "cell_type": "code",
   "execution_count": 12,
   "id": "e0ad9f60-c7ce-4c75-99fd-18bba5a5b944",
   "metadata": {},
   "outputs": [
    {
     "name": "stdout",
     "output_type": "stream",
     "text": [
      "<class 'float'>\n"
     ]
    }
   ],
   "source": [
    "print(type(3.14))                # Float"
   ]
  },
  {
   "cell_type": "code",
   "execution_count": 13,
   "id": "d80f1d90-e4f7-40d1-88fc-8f211310e0f8",
   "metadata": {},
   "outputs": [
    {
     "name": "stdout",
     "output_type": "stream",
     "text": [
      "<class 'complex'>\n"
     ]
    }
   ],
   "source": [
    "print(type(1+3j))                #complex"
   ]
  },
  {
   "cell_type": "code",
   "execution_count": 15,
   "id": "c1d7ec77-891e-4fa9-8a79-7c5820ac01db",
   "metadata": {},
   "outputs": [
    {
     "name": "stdout",
     "output_type": "stream",
     "text": [
      "<class 'str'>\n"
     ]
    }
   ],
   "source": [
    "print(type(\"shubhashis_acharya\")) #string"
   ]
  },
  {
   "cell_type": "code",
   "execution_count": 16,
   "id": "15e75d4f-9579-4966-9342-a6b25a808836",
   "metadata": {},
   "outputs": [
    {
     "name": "stdout",
     "output_type": "stream",
     "text": [
      "<class 'list'>\n"
     ]
    }
   ],
   "source": [
    "print(type([1, 2, 3]))           # List\n"
   ]
  },
  {
   "cell_type": "code",
   "execution_count": 17,
   "id": "50bb699b-1e17-4848-8b7b-b878a094f728",
   "metadata": {},
   "outputs": [
    {
     "name": "stdout",
     "output_type": "stream",
     "text": [
      "<class 'dict'>\n"
     ]
    }
   ],
   "source": [
    "print(type({'name':'acharya'})) # Dictionary\n"
   ]
  },
  {
   "cell_type": "code",
   "execution_count": 18,
   "id": "47e46603-9679-4d95-b72c-d49d9137fa1f",
   "metadata": {},
   "outputs": [
    {
     "name": "stdout",
     "output_type": "stream",
     "text": [
      "<class 'set'>\n"
     ]
    }
   ],
   "source": [
    "print(type({9.8, 3.14, 2.7}))    # Set\n"
   ]
  },
  {
   "cell_type": "code",
   "execution_count": 19,
   "id": "7ffb9ece-60c0-4860-b835-1864cf58f160",
   "metadata": {},
   "outputs": [
    {
     "name": "stdout",
     "output_type": "stream",
     "text": [
      "<class 'tuple'>\n"
     ]
    }
   ],
   "source": [
    "print(type((9.8, 3.14, 2.7)))    # Tuple\n"
   ]
  },
  {
   "cell_type": "code",
   "execution_count": 20,
   "id": "263badd6-e2cc-4abf-885a-1b4cbc312b5f",
   "metadata": {},
   "outputs": [
    {
     "name": "stdout",
     "output_type": "stream",
     "text": [
      "<class 'bool'>\n"
     ]
    }
   ],
   "source": [
    "print(type(3 == 3))              # Bool\n"
   ]
  },
  {
   "cell_type": "code",
   "execution_count": 21,
   "id": "38981d2f-e55b-4f63-8d47-35d9bf07db9c",
   "metadata": {},
   "outputs": [
    {
     "name": "stdout",
     "output_type": "stream",
     "text": [
      "<class 'bool'>\n"
     ]
    }
   ],
   "source": [
    "print(type(3 >= 3))              # Bool"
   ]
  },
  {
   "cell_type": "code",
   "execution_count": null,
   "id": "bf471073-c096-4acc-a8e0-315ae9dc3582",
   "metadata": {},
   "outputs": [],
   "source": []
  },
  {
   "cell_type": "code",
   "execution_count": null,
   "id": "8716f87e-1fac-46ad-900e-fc195797633d",
   "metadata": {},
   "outputs": [],
   "source": []
  },
  {
   "cell_type": "code",
   "execution_count": null,
   "id": "a9fd4099-fdb7-4c7f-995e-82972c3b9c2e",
   "metadata": {},
   "outputs": [],
   "source": []
  }
 ],
 "metadata": {
  "kernelspec": {
   "display_name": "Python 3 (ipykernel)",
   "language": "python",
   "name": "python3"
  },
  "language_info": {
   "codemirror_mode": {
    "name": "ipython",
    "version": 3
   },
   "file_extension": ".py",
   "mimetype": "text/x-python",
   "name": "python",
   "nbconvert_exporter": "python",
   "pygments_lexer": "ipython3",
   "version": "3.12.7"
  }
 },
 "nbformat": 4,
 "nbformat_minor": 5
}
